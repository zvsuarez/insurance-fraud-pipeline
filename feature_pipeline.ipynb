{
 "cells": [
  {
   "cell_type": "code",
   "execution_count": null,
   "metadata": {},
   "outputs": [],
   "source": [
    "import numpy as np\n",
    "import pandas as pd\n",
    "import matplotlib.pyplot as plt\n",
    "from sklearn.model_selection import train_test_split\n",
    "from sklearn.preprocessing import OneHotEncoder, LabelEncoder\n",
    "from sklearn.compose import ColumnTransformer\n",
    "from sklearn.metrics import accuracy_score, roc_auc_score, confusion_matrix, classification_report\n",
    "from sklearn.pipeline import Pipeline\n",
    "from sklearn.ensemble import RandomForestClassifier, HistGradientBoostingClassifier\n",
    "from imblearn.over_sampling import RandomOverSampler\n",
    "import preprocessing as proc\n",
    "import joblib\n",
    "\n",
    "pd.pandas.set_option('display.max_columns', None)"
   ]
  },
  {
   "cell_type": "code",
   "execution_count": null,
   "metadata": {},
   "outputs": [],
   "source": [
    "df = pd.read_csv('carclaims.csv')\n",
    "print(df.shape)\n",
    "df.head()"
   ]
  },
  {
   "cell_type": "code",
   "execution_count": null,
   "metadata": {},
   "outputs": [],
   "source": [
    "X = df.drop(['PolicyNumber', 'FraudFound'], axis=1)\n",
    "y = df['FraudFound']\n",
    "print(X.shape, y.shape)\n",
    "X.head()"
   ]
  },
  {
   "cell_type": "code",
   "execution_count": null,
   "metadata": {},
   "outputs": [],
   "source": [
    "X_train, X_test, y_train, y_test = train_test_split(X, y, \n",
    "                                                   test_size=0.2, \n",
    "                                                   random_state=42,\n",
    "                                                   stratify=y)\n",
    "X_train.shape, X_test.shape"
   ]
  },
  {
   "cell_type": "code",
   "execution_count": null,
   "metadata": {},
   "outputs": [],
   "source": [
    "X_train.reset_index(drop=True, inplace=True)\n",
    "X_test.reset_index(drop=True, inplace=True)\n",
    "y_train.reset_index(drop=True, inplace=True)\n",
    "y_test.reset_index(drop=True, inplace=True)"
   ]
  },
  {
   "cell_type": "code",
   "execution_count": null,
   "metadata": {},
   "outputs": [],
   "source": [
    "label_encode = LabelEncoder()\n",
    "y_train_enc = label_encode.fit_transform(y_train)\n",
    "y_test_enc = label_encode.transform(y_test)"
   ]
  },
  {
   "cell_type": "markdown",
   "metadata": {},
   "source": [
    "#### Variables"
   ]
  },
  {
   "cell_type": "code",
   "execution_count": null,
   "metadata": {},
   "outputs": [],
   "source": [
    "TEMP_SIN_COS = ['Month', 'MonthClaimed', 'DayOfWeek']\n",
    "\n",
    "ONE_HOT_CATEGORICAL = ['Make', 'PolicyType', 'VehicleCategory',\n",
    "                       'BasePolicy', 'AgentType', 'Fault', 'Sex', 'AccidentArea']\n",
    "\n",
    "MONTH_VAR = ['Month', 'MonthClaimed']\n",
    "DAY_VAR = ['DayOfWeek']\n",
    "DEDUCTIBLE_VAR = ['Deductible']\n",
    "AGE_OF_VEH_VAR = ['AgeOfVehicle']\n",
    "AGE_OF_POL_VAR = ['AgeOfPolicyHolder']\n",
    "VEH_PRICE_VAR = ['VehiclePrice']\n",
    "DAYS_ACC_VAR = ['Days:Policy-Accident']\n",
    "ADD_CHANGE_VAR = ['AddressChange-Claim']\n",
    "NUM_SUPP_VAR = ['NumberOfSuppliments']\n",
    "PAST_CLAIM_VAR = ['PastNumberOfClaims']\n",
    "DAYS_CLAIM_VAR = ['Days:Policy-Claim']\n",
    "\n",
    "MONTH_MAP = {'Jan': 1, 'Feb': 2, 'Mar': 3, 'Apr': 4, 'May': 5, 'Jun': 6, 'Jul': 7, 'Aug': 8, 'Sep': 9, 'Oct': 10, 'Nov': 11, 'Dec': 12}\n",
    "DAY_MAP = {'Sunday': 6, 'Monday': 0, 'Tuesday': 1, 'Wednesday': 2, 'Thursday': 3, 'Friday': 4, 'Saturday': 5}\n",
    "DEDUCTIBLE_MAP = {300: 1, 400: 2, 500: 3, 700: 4}\n",
    "AGE_OF_VEH_MAP = {'new': 8, '2 years': 7, '3 years': 6, '4 years': 5,\n",
    "                  '5 years': 4, '6 years': 3, '7 years': 2, 'more than 7': 1}\n",
    "AGE_OF_POL_MAP = {'16 to 17': 1, '18 to 20': 2, '21 to 25': 3, '26 to 30': 4,\n",
    "                  '31 to 35': 5, '36 to 40': 6, '41 to 50': 7, '51 to 65': 8,\n",
    "                  'over 65': 9}\n",
    "VEH_PRICE_MAP = {'less than 20,000': 1, '20,000 to 29,000': 2,\n",
    "                 '30,000 to 39,000': 3, '40,000 to 59,000': 4,\n",
    "                 '60,000 to 69,000': 5, 'more than 69,000': 6}\n",
    "DAYS_ACC_MAP = {'none': 1, '1 to 7': 2, '8 to 15': 3, '15 to 30': 4, 'more than 30': 5}\n",
    "ADD_CHANGE_MAP = {'no change': 1, 'under 6 months': 2, '1 year': 3,\n",
    "                  '2 to 3 years': 4, '4 to 8 years': 5}\n",
    "NUM_SUPP_MAP = {'none': 1, '1 to 2': 2, '3 to 5': 3, 'more than 5': 4}\n",
    "PAST_CLAIM_MAP = {'none': 1, '1': 2, '2 to 4': 3, 'more than 4': 4}\n",
    "DAYS_CLAIM_MAP = {'none':1, '8 to 15': 2, '15 to 30': 3, 'more than 30': 4}"
   ]
  },
  {
   "cell_type": "code",
   "execution_count": null,
   "metadata": {},
   "outputs": [],
   "source": [
    "FEATURES = [\n",
    "    'BasePolicy', \n",
    "    'PolicyType', \n",
    "    'VehicleCategory',\n",
    "    'Fault', \n",
    "    'PastNumberOfClaims', \n",
    "    'Make',\n",
    "    'NumberOfSuppliments', \n",
    "    'Deductible', \n",
    "    'VehiclePrice',\n",
    "    'AgeOfVehicle', \n",
    "    'Days:Policy-Accident', \n",
    "    'Days:Policy-Claim',\n",
    "    'Sex', \n",
    "    'AgeOfPolicyHolder', \n",
    "    'Month', \n",
    "    'MonthClaimed', \n",
    "    'DayOfWeek',\n",
    "    'AgentType', \n",
    "    'AddressChange-Claim', \n",
    "    'AccidentArea']"
   ]
  },
  {
   "cell_type": "code",
   "execution_count": null,
   "metadata": {},
   "outputs": [],
   "source": [
    "X_train = X_train[FEATURES]\n",
    "X_test = X_test[FEATURES]\n",
    "\n",
    "X_train.shape, X_test.shape"
   ]
  },
  {
   "cell_type": "markdown",
   "metadata": {},
   "source": [
    "#### Pipeline"
   ]
  },
  {
   "cell_type": "code",
   "execution_count": null,
   "metadata": {},
   "outputs": [],
   "source": [
    "pipeline = Pipeline([\n",
    "    ('clean', proc.CleanTransform(variable=TEMP_SIN_COS)),\n",
    "    ('map_month', proc.MapTransform(variable=MONTH_VAR, mappings=MONTH_MAP)),\n",
    "    ('map_day', proc.MapTransform(variable=DAY_VAR, mappings=DAY_MAP))\n",
    "    ('cossin', proc.CoSineTransform(variable=TEMP_SIN_COS)),\n",
    "    ('drop', proc.DropTransform(variable=TEMP_SIN_COS)),\n",
    "    ('onehot', ColumnTransformer(transformers=[\n",
    "        ('hot_cat', OneHotEncoder(handle_unknown='infrequent_if_exist'), ONE_HOT_CATEGORICAL)])),\n",
    "    ('map_deduct', proc.MapTransform(variable=DEDUCTIBLE_VAR, mappings=DEDUCTIBLE_MAP)),\n",
    "    ('map_ageofvehicle', proc.MapTransform(variable=AGE_OF_VEH_VAR, mappings=AGE_OF_VEH_MAP)),\n",
    "    ('map_ageofholder', proc.MapTransform(variable=AGE_OF_POL_VAR, mappings=AGE_OF_POL_MAP)),\n",
    "    ('map_vehicleprice', proc.MapTransform(variable=VEH_PRICE_VAR, mappings=VEH_PRICE_MAP)),\n",
    "    ('map_daysaccident', proc.MapTransform(variable=DAYS_ACC_VAR, mappings=DAYS_ACC_MAP)),\n",
    "    ('map_addresschange', proc.MapTransform(variable=ADD_CHANGE_VAR, mappings=ADD_CHANGE_MAP)),\n",
    "    ('map_supplement', proc.MapTransform(variable=NUM_SUPP_VAR, mappings=NUM_SUPP_VAR)),\n",
    "    ('map_pastclaim', proc.MapTransform(variable=PAST_CLAIM_VAR, mappings=PAST_CLAIM_MAP)),\n",
    "    ('map_daysclaim', proc.MapTransform(variable=DAYS_CLAIM_VAR, mappings=DAYS_CLAIM_MAP)),\n",
    "    ('sampler', RandomOverSampler(random_state=42)),\n",
    "    ('classifier', RandomForestClassifier())\n",
    "], verbose=True)"
   ]
  },
  {
   "cell_type": "code",
   "execution_count": null,
   "metadata": {},
   "outputs": [],
   "source": []
  }
 ],
 "metadata": {
  "kernelspec": {
   "display_name": "venv",
   "language": "python",
   "name": "python3"
  },
  "language_info": {
   "codemirror_mode": {
    "name": "ipython",
    "version": 3
   },
   "file_extension": ".py",
   "mimetype": "text/x-python",
   "name": "python",
   "nbconvert_exporter": "python",
   "pygments_lexer": "ipython3",
   "version": "3.10.6"
  }
 },
 "nbformat": 4,
 "nbformat_minor": 2
}
